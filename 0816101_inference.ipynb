{
  "nbformat": 4,
  "nbformat_minor": 0,
  "metadata": {
    "colab": {
      "provenance": []
    },
    "kernelspec": {
      "name": "python3",
      "display_name": "Python 3"
    },
    "language_info": {
      "name": "python"
    }
  },
  "cells": [
    {
      "cell_type": "code",
      "source": [
        "from google.colab import drive\n",
        "drive.mount('/content/drive/', force_remount=True)"
      ],
      "metadata": {
        "colab": {
          "base_uri": "https://localhost:8080/"
        },
        "id": "uIImSE810466",
        "outputId": "004355af-4b65-4eec-95f4-70a5ecbc1cfa"
      },
      "execution_count": null,
      "outputs": [
        {
          "output_type": "stream",
          "name": "stdout",
          "text": [
            "Mounted at /content/drive/\n"
          ]
        }
      ]
    },
    {
      "cell_type": "code",
      "execution_count": null,
      "metadata": {
        "id": "m0XsE7kb0OPp"
      },
      "outputs": [],
      "source": [
        "import cv2\n",
        "import typing\n",
        "import numpy as np\n",
        "import pandas as pd\n",
        "from tqdm import tqdm\n",
        "from drive.MyDrive.mltu.configs import BaseModelConfigs\n",
        "\n",
        "from drive.MyDrive.mltu.inferenceModel import OnnxInferenceModel\n",
        "from drive.MyDrive.mltu.utils.text_utils import ctc_decoder, get_cer\n",
        "\n",
        "class ImageToWordModel(OnnxInferenceModel):\n",
        "    def __init__(self, char_list: typing.Union[str, list], *args, **kwargs):\n",
        "        super().__init__(*args, **kwargs)\n",
        "        self.char_list = char_list\n",
        "\n",
        "    def predict(self, image: np.ndarray):\n",
        "        image = cv2.resize(image, self.input_shape[:2][::-1])\n",
        "\n",
        "        image_pred = np.expand_dims(image, axis=0).astype(np.float32)\n",
        "\n",
        "        preds = self.model.run(None, {self.input_name: image_pred})[0]\n",
        "\n",
        "        text = ctc_decoder(preds, self.char_list)[0]\n",
        "\n",
        "        return text\n",
        "\n",
        "def predict(X):\n",
        "  y = []\n",
        "  for i in range(len(X_test)):\n",
        "    image = cv2.imread('drive/MyDrive/dataset/test/' + X[i])\n",
        "    prediction = model.predict(image)\n",
        "    y.append(prediction)\n",
        "  return np.array(y)\n",
        "\n",
        "if __name__ == \"__main__\":\n",
        "\n",
        "    configs = BaseModelConfigs.load(\"drive/MyDrive/Captcha_models/0816101_model/configs.yaml\")\n",
        "    model = ImageToWordModel(model_path=configs.model_path, char_list=configs.vocab)\n",
        "\n",
        "    df_test = pd.DataFrame(pd.read_csv(\"drive/MyDrive/my_final/training/dataset/test/sample_submission.csv\"))\n",
        "    X_test = df_test[\"filename\"].to_numpy()\n",
        "\n",
        "    df_test[\"label\"] = predict(X_test)\n",
        "    df_test.to_csv(\"0816101_prediction.csv\")"
      ]
    }
  ]
}