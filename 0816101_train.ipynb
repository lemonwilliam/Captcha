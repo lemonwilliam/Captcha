{
  "nbformat": 4,
  "nbformat_minor": 0,
  "metadata": {
    "colab": {
      "provenance": []
    },
    "kernelspec": {
      "name": "python3",
      "display_name": "Python 3"
    },
    "language_info": {
      "name": "python"
    }
  },
  "cells": [
    {
      "cell_type": "code",
      "source": [
        "!pip install PyYAML>=6.0\n",
        "!pip install tqdm\n",
        "!pip install pandas\n",
        "!pip install numpy\n",
        "!pip install opencv-python\n",
        "!pip install onnxruntime\n",
        "!pip install librosa==0.9.2\n",
        "!pip install matplotlib\n",
        "!pip install onnx==1.12.0\n",
        "# below two is for train.py, no need for 0816101_inference.py\n",
        "!pip install tensorflow==2.10\n",
        "!pip install tf2onnx"
      ],
      "metadata": {
        "colab": {
          "base_uri": "https://localhost:8080/",
          "height": 1000
        },
        "id": "9TxWWnSt4Fgd",
        "outputId": "04d89db3-b739-4f9c-918e-291732f65c70"
      },
      "execution_count": 1,
      "outputs": [
        {
          "output_type": "stream",
          "name": "stdout",
          "text": [
            "Looking in indexes: https://pypi.org/simple, https://us-python.pkg.dev/colab-wheels/public/simple/\n",
            "Requirement already satisfied: tqdm in /usr/local/lib/python3.10/dist-packages (4.65.0)\n",
            "Looking in indexes: https://pypi.org/simple, https://us-python.pkg.dev/colab-wheels/public/simple/\n",
            "Requirement already satisfied: pandas in /usr/local/lib/python3.10/dist-packages (1.5.3)\n",
            "Requirement already satisfied: python-dateutil>=2.8.1 in /usr/local/lib/python3.10/dist-packages (from pandas) (2.8.2)\n",
            "Requirement already satisfied: pytz>=2020.1 in /usr/local/lib/python3.10/dist-packages (from pandas) (2022.7.1)\n",
            "Requirement already satisfied: numpy>=1.21.0 in /usr/local/lib/python3.10/dist-packages (from pandas) (1.22.4)\n",
            "Requirement already satisfied: six>=1.5 in /usr/local/lib/python3.10/dist-packages (from python-dateutil>=2.8.1->pandas) (1.16.0)\n",
            "Looking in indexes: https://pypi.org/simple, https://us-python.pkg.dev/colab-wheels/public/simple/\n",
            "Requirement already satisfied: numpy in /usr/local/lib/python3.10/dist-packages (1.22.4)\n",
            "Looking in indexes: https://pypi.org/simple, https://us-python.pkg.dev/colab-wheels/public/simple/\n",
            "Requirement already satisfied: opencv-python in /usr/local/lib/python3.10/dist-packages (4.7.0.72)\n",
            "Requirement already satisfied: numpy>=1.21.2 in /usr/local/lib/python3.10/dist-packages (from opencv-python) (1.22.4)\n",
            "Looking in indexes: https://pypi.org/simple, https://us-python.pkg.dev/colab-wheels/public/simple/\n",
            "Collecting onnxruntime\n",
            "  Downloading onnxruntime-1.15.0-cp310-cp310-manylinux_2_17_x86_64.manylinux2014_x86_64.whl (5.9 MB)\n",
            "\u001b[2K     \u001b[90m━━━━━━━━━━━━━━━━━━━━━━━━━━━━━━━━━━━━━━━━\u001b[0m \u001b[32m5.9/5.9 MB\u001b[0m \u001b[31m46.4 MB/s\u001b[0m eta \u001b[36m0:00:00\u001b[0m\n",
            "\u001b[?25hCollecting coloredlogs (from onnxruntime)\n",
            "  Downloading coloredlogs-15.0.1-py2.py3-none-any.whl (46 kB)\n",
            "\u001b[2K     \u001b[90m━━━━━━━━━━━━━━━━━━━━━━━━━━━━━━━━━━━━━━━━\u001b[0m \u001b[32m46.0/46.0 kB\u001b[0m \u001b[31m5.4 MB/s\u001b[0m eta \u001b[36m0:00:00\u001b[0m\n",
            "\u001b[?25hRequirement already satisfied: flatbuffers in /usr/local/lib/python3.10/dist-packages (from onnxruntime) (23.3.3)\n",
            "Requirement already satisfied: numpy>=1.21.6 in /usr/local/lib/python3.10/dist-packages (from onnxruntime) (1.22.4)\n",
            "Requirement already satisfied: packaging in /usr/local/lib/python3.10/dist-packages (from onnxruntime) (23.1)\n",
            "Requirement already satisfied: protobuf in /usr/local/lib/python3.10/dist-packages (from onnxruntime) (3.20.3)\n",
            "Requirement already satisfied: sympy in /usr/local/lib/python3.10/dist-packages (from onnxruntime) (1.11.1)\n",
            "Collecting humanfriendly>=9.1 (from coloredlogs->onnxruntime)\n",
            "  Downloading humanfriendly-10.0-py2.py3-none-any.whl (86 kB)\n",
            "\u001b[2K     \u001b[90m━━━━━━━━━━━━━━━━━━━━━━━━━━━━━━━━━━━━━━━━\u001b[0m \u001b[32m86.8/86.8 kB\u001b[0m \u001b[31m9.7 MB/s\u001b[0m eta \u001b[36m0:00:00\u001b[0m\n",
            "\u001b[?25hRequirement already satisfied: mpmath>=0.19 in /usr/local/lib/python3.10/dist-packages (from sympy->onnxruntime) (1.3.0)\n",
            "Installing collected packages: humanfriendly, coloredlogs, onnxruntime\n",
            "Successfully installed coloredlogs-15.0.1 humanfriendly-10.0 onnxruntime-1.15.0\n",
            "Looking in indexes: https://pypi.org/simple, https://us-python.pkg.dev/colab-wheels/public/simple/\n",
            "Collecting librosa==0.9.2\n",
            "  Downloading librosa-0.9.2-py3-none-any.whl (214 kB)\n",
            "\u001b[2K     \u001b[90m━━━━━━━━━━━━━━━━━━━━━━━━━━━━━━━━━━━━━━━\u001b[0m \u001b[32m214.3/214.3 kB\u001b[0m \u001b[31m5.3 MB/s\u001b[0m eta \u001b[36m0:00:00\u001b[0m\n",
            "\u001b[?25hRequirement already satisfied: audioread>=2.1.9 in /usr/local/lib/python3.10/dist-packages (from librosa==0.9.2) (3.0.0)\n",
            "Requirement already satisfied: numpy>=1.17.0 in /usr/local/lib/python3.10/dist-packages (from librosa==0.9.2) (1.22.4)\n",
            "Requirement already satisfied: scipy>=1.2.0 in /usr/local/lib/python3.10/dist-packages (from librosa==0.9.2) (1.10.1)\n",
            "Requirement already satisfied: scikit-learn>=0.19.1 in /usr/local/lib/python3.10/dist-packages (from librosa==0.9.2) (1.2.2)\n",
            "Requirement already satisfied: joblib>=0.14 in /usr/local/lib/python3.10/dist-packages (from librosa==0.9.2) (1.2.0)\n",
            "Requirement already satisfied: decorator>=4.0.10 in /usr/local/lib/python3.10/dist-packages (from librosa==0.9.2) (4.4.2)\n",
            "Collecting resampy>=0.2.2 (from librosa==0.9.2)\n",
            "  Downloading resampy-0.4.2-py3-none-any.whl (3.1 MB)\n",
            "\u001b[2K     \u001b[90m━━━━━━━━━━━━━━━━━━━━━━━━━━━━━━━━━━━━━━━━\u001b[0m \u001b[32m3.1/3.1 MB\u001b[0m \u001b[31m48.2 MB/s\u001b[0m eta \u001b[36m0:00:00\u001b[0m\n",
            "\u001b[?25hRequirement already satisfied: numba>=0.45.1 in /usr/local/lib/python3.10/dist-packages (from librosa==0.9.2) (0.56.4)\n",
            "Requirement already satisfied: soundfile>=0.10.2 in /usr/local/lib/python3.10/dist-packages (from librosa==0.9.2) (0.12.1)\n",
            "Requirement already satisfied: pooch>=1.0 in /usr/local/lib/python3.10/dist-packages (from librosa==0.9.2) (1.6.0)\n",
            "Requirement already satisfied: packaging>=20.0 in /usr/local/lib/python3.10/dist-packages (from librosa==0.9.2) (23.1)\n",
            "Requirement already satisfied: llvmlite<0.40,>=0.39.0dev0 in /usr/local/lib/python3.10/dist-packages (from numba>=0.45.1->librosa==0.9.2) (0.39.1)\n",
            "Requirement already satisfied: setuptools in /usr/local/lib/python3.10/dist-packages (from numba>=0.45.1->librosa==0.9.2) (67.7.2)\n",
            "Requirement already satisfied: appdirs>=1.3.0 in /usr/local/lib/python3.10/dist-packages (from pooch>=1.0->librosa==0.9.2) (1.4.4)\n",
            "Requirement already satisfied: requests>=2.19.0 in /usr/local/lib/python3.10/dist-packages (from pooch>=1.0->librosa==0.9.2) (2.27.1)\n",
            "Requirement already satisfied: threadpoolctl>=2.0.0 in /usr/local/lib/python3.10/dist-packages (from scikit-learn>=0.19.1->librosa==0.9.2) (3.1.0)\n",
            "Requirement already satisfied: cffi>=1.0 in /usr/local/lib/python3.10/dist-packages (from soundfile>=0.10.2->librosa==0.9.2) (1.15.1)\n",
            "Requirement already satisfied: pycparser in /usr/local/lib/python3.10/dist-packages (from cffi>=1.0->soundfile>=0.10.2->librosa==0.9.2) (2.21)\n",
            "Requirement already satisfied: urllib3<1.27,>=1.21.1 in /usr/local/lib/python3.10/dist-packages (from requests>=2.19.0->pooch>=1.0->librosa==0.9.2) (1.26.15)\n",
            "Requirement already satisfied: certifi>=2017.4.17 in /usr/local/lib/python3.10/dist-packages (from requests>=2.19.0->pooch>=1.0->librosa==0.9.2) (2022.12.7)\n",
            "Requirement already satisfied: charset-normalizer~=2.0.0 in /usr/local/lib/python3.10/dist-packages (from requests>=2.19.0->pooch>=1.0->librosa==0.9.2) (2.0.12)\n",
            "Requirement already satisfied: idna<4,>=2.5 in /usr/local/lib/python3.10/dist-packages (from requests>=2.19.0->pooch>=1.0->librosa==0.9.2) (3.4)\n",
            "Installing collected packages: resampy, librosa\n",
            "  Attempting uninstall: librosa\n",
            "    Found existing installation: librosa 0.10.0.post2\n",
            "    Uninstalling librosa-0.10.0.post2:\n",
            "      Successfully uninstalled librosa-0.10.0.post2\n",
            "Successfully installed librosa-0.9.2 resampy-0.4.2\n",
            "Looking in indexes: https://pypi.org/simple, https://us-python.pkg.dev/colab-wheels/public/simple/\n",
            "Requirement already satisfied: matplotlib in /usr/local/lib/python3.10/dist-packages (3.7.1)\n",
            "Requirement already satisfied: contourpy>=1.0.1 in /usr/local/lib/python3.10/dist-packages (from matplotlib) (1.0.7)\n",
            "Requirement already satisfied: cycler>=0.10 in /usr/local/lib/python3.10/dist-packages (from matplotlib) (0.11.0)\n",
            "Requirement already satisfied: fonttools>=4.22.0 in /usr/local/lib/python3.10/dist-packages (from matplotlib) (4.39.3)\n",
            "Requirement already satisfied: kiwisolver>=1.0.1 in /usr/local/lib/python3.10/dist-packages (from matplotlib) (1.4.4)\n",
            "Requirement already satisfied: numpy>=1.20 in /usr/local/lib/python3.10/dist-packages (from matplotlib) (1.22.4)\n",
            "Requirement already satisfied: packaging>=20.0 in /usr/local/lib/python3.10/dist-packages (from matplotlib) (23.1)\n",
            "Requirement already satisfied: pillow>=6.2.0 in /usr/local/lib/python3.10/dist-packages (from matplotlib) (8.4.0)\n",
            "Requirement already satisfied: pyparsing>=2.3.1 in /usr/local/lib/python3.10/dist-packages (from matplotlib) (3.0.9)\n",
            "Requirement already satisfied: python-dateutil>=2.7 in /usr/local/lib/python3.10/dist-packages (from matplotlib) (2.8.2)\n",
            "Requirement already satisfied: six>=1.5 in /usr/local/lib/python3.10/dist-packages (from python-dateutil>=2.7->matplotlib) (1.16.0)\n",
            "Looking in indexes: https://pypi.org/simple, https://us-python.pkg.dev/colab-wheels/public/simple/\n",
            "Collecting onnx==1.12.0\n",
            "  Downloading onnx-1.12.0-cp310-cp310-manylinux_2_17_x86_64.manylinux2014_x86_64.whl (13.1 MB)\n",
            "\u001b[2K     \u001b[90m━━━━━━━━━━━━━━━━━━━━━━━━━━━━━━━━━━━━━━━━\u001b[0m \u001b[32m13.1/13.1 MB\u001b[0m \u001b[31m61.8 MB/s\u001b[0m eta \u001b[36m0:00:00\u001b[0m\n",
            "\u001b[?25hRequirement already satisfied: numpy>=1.16.6 in /usr/local/lib/python3.10/dist-packages (from onnx==1.12.0) (1.22.4)\n",
            "Collecting protobuf<=3.20.1,>=3.12.2 (from onnx==1.12.0)\n",
            "  Downloading protobuf-3.20.1-cp310-cp310-manylinux_2_12_x86_64.manylinux2010_x86_64.whl (1.1 MB)\n",
            "\u001b[2K     \u001b[90m━━━━━━━━━━━━━━━━━━━━━━━━━━━━━━━━━━━━━━━━\u001b[0m \u001b[32m1.1/1.1 MB\u001b[0m \u001b[31m60.5 MB/s\u001b[0m eta \u001b[36m0:00:00\u001b[0m\n",
            "\u001b[?25hRequirement already satisfied: typing-extensions>=3.6.2.1 in /usr/local/lib/python3.10/dist-packages (from onnx==1.12.0) (4.5.0)\n",
            "Installing collected packages: protobuf, onnx\n",
            "  Attempting uninstall: protobuf\n",
            "    Found existing installation: protobuf 3.20.3\n",
            "    Uninstalling protobuf-3.20.3:\n",
            "      Successfully uninstalled protobuf-3.20.3\n",
            "\u001b[31mERROR: pip's dependency resolver does not currently take into account all the packages that are installed. This behaviour is the source of the following dependency conflicts.\n",
            "google-api-core 2.11.0 requires protobuf!=3.20.0,!=3.20.1,!=4.21.0,!=4.21.1,!=4.21.2,!=4.21.3,!=4.21.4,!=4.21.5,<5.0.0dev,>=3.19.5, but you have protobuf 3.20.1 which is incompatible.\n",
            "google-cloud-bigquery 3.9.0 requires protobuf!=3.20.0,!=3.20.1,!=4.21.0,!=4.21.1,!=4.21.2,!=4.21.3,!=4.21.4,!=4.21.5,<5.0.0dev,>=3.19.5, but you have protobuf 3.20.1 which is incompatible.\n",
            "google-cloud-bigquery-storage 2.19.1 requires protobuf!=3.20.0,!=3.20.1,!=4.21.0,!=4.21.1,!=4.21.2,!=4.21.3,!=4.21.4,!=4.21.5,<5.0.0dev,>=3.19.5, but you have protobuf 3.20.1 which is incompatible.\n",
            "google-cloud-datastore 2.15.1 requires protobuf!=3.20.0,!=3.20.1,!=4.21.0,!=4.21.1,!=4.21.2,!=4.21.3,!=4.21.4,!=4.21.5,<5.0.0dev,>=3.19.5, but you have protobuf 3.20.1 which is incompatible.\n",
            "google-cloud-firestore 2.11.0 requires protobuf!=3.20.0,!=3.20.1,!=4.21.0,!=4.21.1,!=4.21.2,!=4.21.3,!=4.21.4,!=4.21.5,<5.0.0dev,>=3.19.5, but you have protobuf 3.20.1 which is incompatible.\n",
            "google-cloud-language 2.9.1 requires protobuf!=3.20.0,!=3.20.1,!=4.21.0,!=4.21.1,!=4.21.2,!=4.21.3,!=4.21.4,!=4.21.5,<5.0.0dev,>=3.19.5, but you have protobuf 3.20.1 which is incompatible.\n",
            "google-cloud-translate 3.11.1 requires protobuf!=3.20.0,!=3.20.1,!=4.21.0,!=4.21.1,!=4.21.2,!=4.21.3,!=4.21.4,!=4.21.5,<5.0.0dev,>=3.19.5, but you have protobuf 3.20.1 which is incompatible.\n",
            "googleapis-common-protos 1.59.0 requires protobuf!=3.20.0,!=3.20.1,!=4.21.1,!=4.21.2,!=4.21.3,!=4.21.4,!=4.21.5,<5.0.0dev,>=3.19.5, but you have protobuf 3.20.1 which is incompatible.\n",
            "tensorflow 2.12.0 requires protobuf!=4.21.0,!=4.21.1,!=4.21.2,!=4.21.3,!=4.21.4,!=4.21.5,<5.0.0dev,>=3.20.3, but you have protobuf 3.20.1 which is incompatible.\n",
            "tensorflow-metadata 1.13.1 requires protobuf<5,>=3.20.3, but you have protobuf 3.20.1 which is incompatible.\u001b[0m\u001b[31m\n",
            "\u001b[0mSuccessfully installed onnx-1.12.0 protobuf-3.20.1\n"
          ]
        },
        {
          "output_type": "display_data",
          "data": {
            "application/vnd.colab-display-data+json": {
              "pip_warning": {
                "packages": [
                  "google"
                ]
              }
            }
          },
          "metadata": {}
        },
        {
          "output_type": "stream",
          "name": "stdout",
          "text": [
            "Looking in indexes: https://pypi.org/simple, https://us-python.pkg.dev/colab-wheels/public/simple/\n",
            "Collecting tensorflow==2.10\n",
            "  Downloading tensorflow-2.10.0-cp310-cp310-manylinux_2_17_x86_64.manylinux2014_x86_64.whl (578.0 MB)\n",
            "\u001b[2K     \u001b[90m━━━━━━━━━━━━━━━━━━━━━━━━━━━━━━━━━━━━━━━\u001b[0m \u001b[32m578.0/578.0 MB\u001b[0m \u001b[31m2.8 MB/s\u001b[0m eta \u001b[36m0:00:00\u001b[0m\n",
            "\u001b[?25hRequirement already satisfied: absl-py>=1.0.0 in /usr/local/lib/python3.10/dist-packages (from tensorflow==2.10) (1.4.0)\n",
            "Requirement already satisfied: astunparse>=1.6.0 in /usr/local/lib/python3.10/dist-packages (from tensorflow==2.10) (1.6.3)\n",
            "Requirement already satisfied: flatbuffers>=2.0 in /usr/local/lib/python3.10/dist-packages (from tensorflow==2.10) (23.3.3)\n",
            "Requirement already satisfied: gast<=0.4.0,>=0.2.1 in /usr/local/lib/python3.10/dist-packages (from tensorflow==2.10) (0.4.0)\n",
            "Requirement already satisfied: google-pasta>=0.1.1 in /usr/local/lib/python3.10/dist-packages (from tensorflow==2.10) (0.2.0)\n",
            "Requirement already satisfied: grpcio<2.0,>=1.24.3 in /usr/local/lib/python3.10/dist-packages (from tensorflow==2.10) (1.54.0)\n",
            "Requirement already satisfied: h5py>=2.9.0 in /usr/local/lib/python3.10/dist-packages (from tensorflow==2.10) (3.8.0)\n",
            "Collecting keras<2.11,>=2.10.0 (from tensorflow==2.10)\n",
            "  Downloading keras-2.10.0-py2.py3-none-any.whl (1.7 MB)\n",
            "\u001b[2K     \u001b[90m━━━━━━━━━━━━━━━━━━━━━━━━━━━━━━━━━━━━━━━━\u001b[0m \u001b[32m1.7/1.7 MB\u001b[0m \u001b[31m77.6 MB/s\u001b[0m eta \u001b[36m0:00:00\u001b[0m\n",
            "\u001b[?25hCollecting keras-preprocessing>=1.1.1 (from tensorflow==2.10)\n",
            "  Downloading Keras_Preprocessing-1.1.2-py2.py3-none-any.whl (42 kB)\n",
            "\u001b[2K     \u001b[90m━━━━━━━━━━━━━━━━━━━━━━━━━━━━━━━━━━━━━━━━\u001b[0m \u001b[32m42.6/42.6 kB\u001b[0m \u001b[31m2.9 MB/s\u001b[0m eta \u001b[36m0:00:00\u001b[0m\n",
            "\u001b[?25hRequirement already satisfied: libclang>=13.0.0 in /usr/local/lib/python3.10/dist-packages (from tensorflow==2.10) (16.0.0)\n",
            "Requirement already satisfied: numpy>=1.20 in /usr/local/lib/python3.10/dist-packages (from tensorflow==2.10) (1.22.4)\n",
            "Requirement already satisfied: opt-einsum>=2.3.2 in /usr/local/lib/python3.10/dist-packages (from tensorflow==2.10) (3.3.0)\n",
            "Requirement already satisfied: packaging in /usr/local/lib/python3.10/dist-packages (from tensorflow==2.10) (23.1)\n",
            "Collecting protobuf<3.20,>=3.9.2 (from tensorflow==2.10)\n",
            "  Downloading protobuf-3.19.6-cp310-cp310-manylinux_2_17_x86_64.manylinux2014_x86_64.whl (1.1 MB)\n",
            "\u001b[2K     \u001b[90m━━━━━━━━━━━━━━━━━━━━━━━━━━━━━━━━━━━━━━━━\u001b[0m \u001b[32m1.1/1.1 MB\u001b[0m \u001b[31m64.3 MB/s\u001b[0m eta \u001b[36m0:00:00\u001b[0m\n",
            "\u001b[?25hRequirement already satisfied: setuptools in /usr/local/lib/python3.10/dist-packages (from tensorflow==2.10) (67.7.2)\n",
            "Requirement already satisfied: six>=1.12.0 in /usr/local/lib/python3.10/dist-packages (from tensorflow==2.10) (1.16.0)\n",
            "Collecting tensorboard<2.11,>=2.10 (from tensorflow==2.10)\n",
            "  Downloading tensorboard-2.10.1-py3-none-any.whl (5.9 MB)\n",
            "\u001b[2K     \u001b[90m━━━━━━━━━━━━━━━━━━━━━━━━━━━━━━━━━━━━━━━━\u001b[0m \u001b[32m5.9/5.9 MB\u001b[0m \u001b[31m99.3 MB/s\u001b[0m eta \u001b[36m0:00:00\u001b[0m\n",
            "\u001b[?25hRequirement already satisfied: tensorflow-io-gcs-filesystem>=0.23.1 in /usr/local/lib/python3.10/dist-packages (from tensorflow==2.10) (0.32.0)\n",
            "Collecting tensorflow-estimator<2.11,>=2.10.0 (from tensorflow==2.10)\n",
            "  Downloading tensorflow_estimator-2.10.0-py2.py3-none-any.whl (438 kB)\n",
            "\u001b[2K     \u001b[90m━━━━━━━━━━━━━━━━━━━━━━━━━━━━━━━━━━━━━━\u001b[0m \u001b[32m438.7/438.7 kB\u001b[0m \u001b[31m40.1 MB/s\u001b[0m eta \u001b[36m0:00:00\u001b[0m\n",
            "\u001b[?25hRequirement already satisfied: termcolor>=1.1.0 in /usr/local/lib/python3.10/dist-packages (from tensorflow==2.10) (2.3.0)\n",
            "Requirement already satisfied: typing-extensions>=3.6.6 in /usr/local/lib/python3.10/dist-packages (from tensorflow==2.10) (4.5.0)\n",
            "Requirement already satisfied: wrapt>=1.11.0 in /usr/local/lib/python3.10/dist-packages (from tensorflow==2.10) (1.14.1)\n",
            "Requirement already satisfied: wheel<1.0,>=0.23.0 in /usr/local/lib/python3.10/dist-packages (from astunparse>=1.6.0->tensorflow==2.10) (0.40.0)\n",
            "Requirement already satisfied: google-auth<3,>=1.6.3 in /usr/local/lib/python3.10/dist-packages (from tensorboard<2.11,>=2.10->tensorflow==2.10) (2.17.3)\n",
            "Collecting google-auth-oauthlib<0.5,>=0.4.1 (from tensorboard<2.11,>=2.10->tensorflow==2.10)\n",
            "  Downloading google_auth_oauthlib-0.4.6-py2.py3-none-any.whl (18 kB)\n",
            "Requirement already satisfied: markdown>=2.6.8 in /usr/local/lib/python3.10/dist-packages (from tensorboard<2.11,>=2.10->tensorflow==2.10) (3.4.3)\n",
            "Requirement already satisfied: requests<3,>=2.21.0 in /usr/local/lib/python3.10/dist-packages (from tensorboard<2.11,>=2.10->tensorflow==2.10) (2.27.1)\n",
            "Collecting tensorboard-data-server<0.7.0,>=0.6.0 (from tensorboard<2.11,>=2.10->tensorflow==2.10)\n",
            "  Downloading tensorboard_data_server-0.6.1-py3-none-manylinux2010_x86_64.whl (4.9 MB)\n",
            "\u001b[2K     \u001b[90m━━━━━━━━━━━━━━━━━━━━━━━━━━━━━━━━━━━━━━━━\u001b[0m \u001b[32m4.9/4.9 MB\u001b[0m \u001b[31m96.1 MB/s\u001b[0m eta \u001b[36m0:00:00\u001b[0m\n",
            "\u001b[?25hRequirement already satisfied: tensorboard-plugin-wit>=1.6.0 in /usr/local/lib/python3.10/dist-packages (from tensorboard<2.11,>=2.10->tensorflow==2.10) (1.8.1)\n",
            "Requirement already satisfied: werkzeug>=1.0.1 in /usr/local/lib/python3.10/dist-packages (from tensorboard<2.11,>=2.10->tensorflow==2.10) (2.3.0)\n",
            "Requirement already satisfied: cachetools<6.0,>=2.0.0 in /usr/local/lib/python3.10/dist-packages (from google-auth<3,>=1.6.3->tensorboard<2.11,>=2.10->tensorflow==2.10) (5.3.0)\n",
            "Requirement already satisfied: pyasn1-modules>=0.2.1 in /usr/local/lib/python3.10/dist-packages (from google-auth<3,>=1.6.3->tensorboard<2.11,>=2.10->tensorflow==2.10) (0.3.0)\n",
            "Requirement already satisfied: rsa<5,>=3.1.4 in /usr/local/lib/python3.10/dist-packages (from google-auth<3,>=1.6.3->tensorboard<2.11,>=2.10->tensorflow==2.10) (4.9)\n",
            "Requirement already satisfied: requests-oauthlib>=0.7.0 in /usr/local/lib/python3.10/dist-packages (from google-auth-oauthlib<0.5,>=0.4.1->tensorboard<2.11,>=2.10->tensorflow==2.10) (1.3.1)\n",
            "Requirement already satisfied: urllib3<1.27,>=1.21.1 in /usr/local/lib/python3.10/dist-packages (from requests<3,>=2.21.0->tensorboard<2.11,>=2.10->tensorflow==2.10) (1.26.15)\n",
            "Requirement already satisfied: certifi>=2017.4.17 in /usr/local/lib/python3.10/dist-packages (from requests<3,>=2.21.0->tensorboard<2.11,>=2.10->tensorflow==2.10) (2022.12.7)\n",
            "Requirement already satisfied: charset-normalizer~=2.0.0 in /usr/local/lib/python3.10/dist-packages (from requests<3,>=2.21.0->tensorboard<2.11,>=2.10->tensorflow==2.10) (2.0.12)\n",
            "Requirement already satisfied: idna<4,>=2.5 in /usr/local/lib/python3.10/dist-packages (from requests<3,>=2.21.0->tensorboard<2.11,>=2.10->tensorflow==2.10) (3.4)\n",
            "Requirement already satisfied: MarkupSafe>=2.1.1 in /usr/local/lib/python3.10/dist-packages (from werkzeug>=1.0.1->tensorboard<2.11,>=2.10->tensorflow==2.10) (2.1.2)\n",
            "Requirement already satisfied: pyasn1<0.6.0,>=0.4.6 in /usr/local/lib/python3.10/dist-packages (from pyasn1-modules>=0.2.1->google-auth<3,>=1.6.3->tensorboard<2.11,>=2.10->tensorflow==2.10) (0.5.0)\n",
            "Requirement already satisfied: oauthlib>=3.0.0 in /usr/local/lib/python3.10/dist-packages (from requests-oauthlib>=0.7.0->google-auth-oauthlib<0.5,>=0.4.1->tensorboard<2.11,>=2.10->tensorflow==2.10) (3.2.2)\n",
            "Installing collected packages: keras, tensorflow-estimator, tensorboard-data-server, protobuf, keras-preprocessing, google-auth-oauthlib, tensorboard, tensorflow\n",
            "  Attempting uninstall: keras\n",
            "    Found existing installation: keras 2.12.0\n",
            "    Uninstalling keras-2.12.0:\n",
            "      Successfully uninstalled keras-2.12.0\n",
            "  Attempting uninstall: tensorflow-estimator\n",
            "    Found existing installation: tensorflow-estimator 2.12.0\n",
            "    Uninstalling tensorflow-estimator-2.12.0:\n",
            "      Successfully uninstalled tensorflow-estimator-2.12.0\n",
            "  Attempting uninstall: tensorboard-data-server\n",
            "    Found existing installation: tensorboard-data-server 0.7.0\n",
            "    Uninstalling tensorboard-data-server-0.7.0:\n",
            "      Successfully uninstalled tensorboard-data-server-0.7.0\n",
            "  Attempting uninstall: protobuf\n",
            "    Found existing installation: protobuf 3.20.1\n",
            "    Uninstalling protobuf-3.20.1:\n",
            "      Successfully uninstalled protobuf-3.20.1\n",
            "  Attempting uninstall: google-auth-oauthlib\n",
            "    Found existing installation: google-auth-oauthlib 1.0.0\n",
            "    Uninstalling google-auth-oauthlib-1.0.0:\n",
            "      Successfully uninstalled google-auth-oauthlib-1.0.0\n",
            "  Attempting uninstall: tensorboard\n",
            "    Found existing installation: tensorboard 2.12.2\n",
            "    Uninstalling tensorboard-2.12.2:\n",
            "      Successfully uninstalled tensorboard-2.12.2\n",
            "  Attempting uninstall: tensorflow\n",
            "    Found existing installation: tensorflow 2.12.0\n",
            "    Uninstalling tensorflow-2.12.0:\n",
            "      Successfully uninstalled tensorflow-2.12.0\n",
            "\u001b[31mERROR: pip's dependency resolver does not currently take into account all the packages that are installed. This behaviour is the source of the following dependency conflicts.\n",
            "tensorflow-datasets 4.9.2 requires protobuf>=3.20, but you have protobuf 3.19.6 which is incompatible.\n",
            "tensorflow-metadata 1.13.1 requires protobuf<5,>=3.20.3, but you have protobuf 3.19.6 which is incompatible.\u001b[0m\u001b[31m\n",
            "\u001b[0mSuccessfully installed google-auth-oauthlib-0.4.6 keras-2.10.0 keras-preprocessing-1.1.2 protobuf-3.19.6 tensorboard-2.10.1 tensorboard-data-server-0.6.1 tensorflow-2.10.0 tensorflow-estimator-2.10.0\n"
          ]
        },
        {
          "output_type": "display_data",
          "data": {
            "application/vnd.colab-display-data+json": {
              "pip_warning": {
                "packages": [
                  "google"
                ]
              }
            }
          },
          "metadata": {}
        },
        {
          "output_type": "stream",
          "name": "stdout",
          "text": [
            "Looking in indexes: https://pypi.org/simple, https://us-python.pkg.dev/colab-wheels/public/simple/\n",
            "Collecting tf2onnx\n",
            "  Downloading tf2onnx-1.14.0-py3-none-any.whl (451 kB)\n",
            "\u001b[2K     \u001b[90m━━━━━━━━━━━━━━━━━━━━━━━━━━━━━━━━━━━━━━━\u001b[0m \u001b[32m451.2/451.2 kB\u001b[0m \u001b[31m8.2 MB/s\u001b[0m eta \u001b[36m0:00:00\u001b[0m\n",
            "\u001b[?25hRequirement already satisfied: numpy>=1.14.1 in /usr/local/lib/python3.10/dist-packages (from tf2onnx) (1.22.4)\n",
            "Requirement already satisfied: onnx>=1.4.1 in /usr/local/lib/python3.10/dist-packages (from tf2onnx) (1.12.0)\n",
            "Requirement already satisfied: requests in /usr/local/lib/python3.10/dist-packages (from tf2onnx) (2.27.1)\n",
            "Requirement already satisfied: six in /usr/local/lib/python3.10/dist-packages (from tf2onnx) (1.16.0)\n",
            "Collecting flatbuffers<3.0,>=1.12 (from tf2onnx)\n",
            "  Downloading flatbuffers-2.0.7-py2.py3-none-any.whl (26 kB)\n",
            "Requirement already satisfied: protobuf<=3.20.1,>=3.12.2 in /usr/local/lib/python3.10/dist-packages (from onnx>=1.4.1->tf2onnx) (3.19.6)\n",
            "Requirement already satisfied: typing-extensions>=3.6.2.1 in /usr/local/lib/python3.10/dist-packages (from onnx>=1.4.1->tf2onnx) (4.5.0)\n",
            "Requirement already satisfied: urllib3<1.27,>=1.21.1 in /usr/local/lib/python3.10/dist-packages (from requests->tf2onnx) (1.26.15)\n",
            "Requirement already satisfied: certifi>=2017.4.17 in /usr/local/lib/python3.10/dist-packages (from requests->tf2onnx) (2022.12.7)\n",
            "Requirement already satisfied: charset-normalizer~=2.0.0 in /usr/local/lib/python3.10/dist-packages (from requests->tf2onnx) (2.0.12)\n",
            "Requirement already satisfied: idna<4,>=2.5 in /usr/local/lib/python3.10/dist-packages (from requests->tf2onnx) (3.4)\n",
            "Installing collected packages: flatbuffers, tf2onnx\n",
            "  Attempting uninstall: flatbuffers\n",
            "    Found existing installation: flatbuffers 23.3.3\n",
            "    Uninstalling flatbuffers-23.3.3:\n",
            "      Successfully uninstalled flatbuffers-23.3.3\n",
            "Successfully installed flatbuffers-2.0.7 tf2onnx-1.14.0\n"
          ]
        }
      ]
    },
    {
      "cell_type": "code",
      "source": [
        "# change python version to 3.9\n",
        "!apt-get install python3.9\n",
        "!ln -sf /usr/bin/python3.9 /usr/local/bin/python\n",
        "!python --version"
      ],
      "metadata": {
        "colab": {
          "base_uri": "https://localhost:8080/"
        },
        "id": "YZRs_rlw4vaq",
        "outputId": "e7ddeb49-3fc3-41c7-f13c-1e61961f93c4"
      },
      "execution_count": null,
      "outputs": [
        {
          "output_type": "stream",
          "name": "stdout",
          "text": [
            "Reading package lists... Done\n",
            "Building dependency tree       \n",
            "Reading state information... Done\n",
            "python3.9 is already the newest version (3.9.16-1+focal1).\n",
            "0 upgraded, 0 newly installed, 0 to remove and 34 not upgraded.\n",
            "Python 3.9.16\n"
          ]
        }
      ]
    },
    {
      "cell_type": "code",
      "execution_count": null,
      "metadata": {
        "colab": {
          "base_uri": "https://localhost:8080/"
        },
        "id": "hLcHjsSVDrFF",
        "outputId": "b3fdbdce-0bd0-4498-95d6-0d04d906065d"
      },
      "outputs": [
        {
          "output_type": "stream",
          "name": "stdout",
          "text": [
            "Mounted at /content/drive/\n"
          ]
        }
      ],
      "source": [
        "from google.colab import drive\n",
        "drive.mount('/content/drive/', force_remount=True)"
      ]
    },
    {
      "cell_type": "code",
      "source": [
        "from keras import layers\n",
        "from keras.models import Model\n",
        "\n",
        "from drive.MyDrive.mltu.tensorflow.model_utils import residual_block\n",
        "\n",
        "def train_model(input_dim, output_dim, activation='leaky_relu', dropout=0.2):\n",
        "    \n",
        "  inputs = layers.Input(shape=input_dim, name=\"input\")\n",
        "\n",
        "  # normalize images here instead in preprocessing step\n",
        "  input = layers.Lambda(lambda x: x / 255)(inputs)\n",
        "\n",
        "  x1 = residual_block(input, 16, activation=activation, skip_conv=True, strides=1, dropout=dropout)\n",
        "\n",
        "  x2 = residual_block(x1, 16, activation=activation, skip_conv=True, strides=2, dropout=dropout)\n",
        "  x3 = residual_block(x2, 16, activation=activation, skip_conv=False, strides=1, dropout=dropout)\n",
        "\n",
        "  x4 = residual_block(x3, 32, activation=activation, skip_conv=True, strides=2, dropout=dropout)\n",
        "  x5 = residual_block(x4, 32, activation=activation, skip_conv=False, strides=1, dropout=dropout)\n",
        "\n",
        "  x6 = residual_block(x5, 64, activation=activation, skip_conv=True, strides=2, dropout=dropout)\n",
        "  x7 = residual_block(x6, 32, activation=activation, skip_conv=True, strides=1, dropout=dropout)\n",
        "\n",
        "  x8 = residual_block(x7, 64, activation=activation, skip_conv=True, strides=2, dropout=dropout)\n",
        "  x9 = residual_block(x8, 64, activation=activation, skip_conv=False, strides=1, dropout=dropout)\n",
        "\n",
        "  squeezed = layers.Reshape((x9.shape[-3] * x9.shape[-2], x9.shape[-1]))(x9)\n",
        "\n",
        "  blstm = layers.Bidirectional(layers.LSTM(128, return_sequences=True))(squeezed)\n",
        "  blstm = layers.Dropout(dropout)(blstm)\n",
        "\n",
        "  output = layers.Dense(output_dim + 1, activation='softmax', name=\"output\")(blstm)\n",
        "\n",
        "  model = Model(inputs=inputs, outputs=output)\n",
        "  return model"
      ],
      "metadata": {
        "id": "NSEJH5kz2aVO"
      },
      "execution_count": null,
      "outputs": []
    },
    {
      "cell_type": "code",
      "source": [
        "import os\n",
        "from datetime import datetime\n",
        "\n",
        "from drive.MyDrive.mltu.configs import BaseModelConfigs\n",
        "\n",
        "class ModelConfigs(BaseModelConfigs):\n",
        "  def __init__(self):\n",
        "    super().__init__()\n",
        "    self.model_path = \"drive/MyDrive/Captcha_models/0816101_model\"\n",
        "    self.vocab = set(\"abcdefghijklmnopqrstuvwxyzABCDEFGHIJKLMNOPQRSTUVWXYZ0123456789\")\n",
        "    self.height = 96\n",
        "    self.width = 96\n",
        "    self.max_text_length = 4\n",
        "    self.batch_size = 64\n",
        "    self.learning_rate = 1e-3\n",
        "    self.train_epochs = 150\n",
        "    self.train_workers = 20"
      ],
      "metadata": {
        "id": "ey75H0q-2unx"
      },
      "execution_count": null,
      "outputs": []
    },
    {
      "cell_type": "code",
      "source": [
        "import pandas as pd\n",
        "import tqdm\n",
        "import numpy as np\n",
        "import tensorflow as tf\n",
        "\n",
        "# load data\n",
        "df_train = pd.DataFrame(pd.read_csv(\"drive/MyDrive/Captcha_dataset/train/annotations.csv\"))\n",
        "#df_train\n",
        "\n",
        "X_train = df_train[\"filename\"].to_numpy()\n",
        "y_train = df_train[\"label\"].to_numpy()\n",
        "\n",
        "dataset = []\n",
        "for i in range(len(df_train)):\n",
        "  # print(\"file:\", file)\n",
        "  image_path = \"drive/MyDrive/Captcha_dataset/train/\" + X_train[i]\n",
        "  label = y_train[i]\n",
        "  dataset.append([image_path, label])"
      ],
      "metadata": {
        "id": "fpEIYh4UGfA-"
      },
      "execution_count": null,
      "outputs": []
    },
    {
      "cell_type": "code",
      "source": [
        "from drive.MyDrive.mltu.dataProvider import DataProvider\n",
        "from drive.MyDrive.mltu.preprocessors import ImageReader\n",
        "from drive.MyDrive.mltu.transformers import ImageResizer, LabelIndexer, LabelPadding\n",
        "from drive.MyDrive.mltu.augmentors import RandomBrightness, RandomRotate, RandomErodeDilate\n",
        "\n",
        "configs = ModelConfigs()\n",
        "\n",
        "# data preprocessing\n",
        "data_provider = DataProvider(\n",
        "  dataset=dataset,\n",
        "  skip_validation=True,\n",
        "  batch_size=configs.batch_size,\n",
        "  data_preprocessors=[ImageReader()],\n",
        "  transformers=[\n",
        "      ImageResizer(configs.width, configs.height),\n",
        "      LabelIndexer(configs.vocab),\n",
        "      LabelPadding(max_word_length=configs.max_text_length, padding_value=len(configs.vocab))\n",
        "      ],\n",
        ")"
      ],
      "metadata": {
        "id": "x_y6tIuiGie5",
        "colab": {
          "base_uri": "https://localhost:8080/"
        },
        "outputId": "53f8c1a7-480c-4111-9f33-1f0a9e5988d3"
      },
      "execution_count": null,
      "outputs": [
        {
          "output_type": "stream",
          "name": "stderr",
          "text": [
            "INFO:DataProvider:Skipping Dataset validation...\n"
          ]
        }
      ]
    },
    {
      "cell_type": "code",
      "source": [
        "# split into training data and validation data, do data augmentation\n",
        "train_data_provider, val_data_provider = data_provider.split(split = 0.9)\n",
        "train_data_provider.augmentors = [RandomBrightness(), RandomRotate(), RandomErodeDilate()]\n",
        "# Save training and validation datasets as csv files\n",
        "train_data_provider.to_csv(os.path.join(configs.model_path, \"train.csv\"))\n",
        "val_data_provider.to_csv(os.path.join(configs.model_path, \"val.csv\"))"
      ],
      "metadata": {
        "id": "6Th_eHXJGpqU"
      },
      "execution_count": null,
      "outputs": []
    },
    {
      "cell_type": "code",
      "source": [
        "from drive.MyDrive.mltu.tensorflow.losses import CTCloss\n",
        "from drive.MyDrive.mltu.tensorflow.metrics import CWERMetric\n",
        "\n",
        "model = train_model(\n",
        "    input_dim = (configs.height, configs.width, 3),\n",
        "    output_dim = len(configs.vocab),\n",
        ")\n",
        "\n",
        "model.compile(\n",
        "    optimizer=tf.keras.optimizers.Adam(learning_rate=configs.learning_rate), \n",
        "    loss=CTCloss(), \n",
        "    metrics=[CWERMetric(padding_token=len(configs.vocab))]\n",
        ")\n",
        "\n",
        "model.summary(line_length=110)\n",
        "os.makedirs(configs.model_path, exist_ok=True)"
      ],
      "metadata": {
        "id": "wBKEZ6MwGrkM",
        "colab": {
          "base_uri": "https://localhost:8080/"
        },
        "outputId": "2824871b-e1bd-4d02-aa72-ea7938a13039"
      },
      "execution_count": null,
      "outputs": [
        {
          "output_type": "stream",
          "name": "stdout",
          "text": [
            "Model: \"model_1\"\n",
            "______________________________________________________________________________________________________________\n",
            " Layer (type)                       Output Shape            Param #      Connected to                         \n",
            "==============================================================================================================\n",
            " input (InputLayer)                 [(None, 96, 96, 3)]     0            []                                   \n",
            "                                                                                                              \n",
            " lambda_1 (Lambda)                  (None, 96, 96, 3)       0            ['input[0][0]']                      \n",
            "                                                                                                              \n",
            " conv2d_24 (Conv2D)                 (None, 96, 96, 16)      448          ['lambda_1[0][0]']                   \n",
            "                                                                                                              \n",
            " batch_normalization_18 (BatchNorma  (None, 96, 96, 16)     64           ['conv2d_24[0][0]']                  \n",
            " lization)                                                                                                    \n",
            "                                                                                                              \n",
            " leaky_re_lu_18 (LeakyReLU)         (None, 96, 96, 16)      0            ['batch_normalization_18[0][0]']     \n",
            "                                                                                                              \n",
            " conv2d_25 (Conv2D)                 (None, 96, 96, 16)      2320         ['leaky_re_lu_18[0][0]']             \n",
            "                                                                                                              \n",
            " batch_normalization_19 (BatchNorma  (None, 96, 96, 16)     64           ['conv2d_25[0][0]']                  \n",
            " lization)                                                                                                    \n",
            "                                                                                                              \n",
            " conv2d_26 (Conv2D)                 (None, 96, 96, 16)      64           ['lambda_1[0][0]']                   \n",
            "                                                                                                              \n",
            " add_9 (Add)                        (None, 96, 96, 16)      0            ['batch_normalization_19[0][0]',     \n",
            "                                                                          'conv2d_26[0][0]']                  \n",
            "                                                                                                              \n",
            " leaky_re_lu_19 (LeakyReLU)         (None, 96, 96, 16)      0            ['add_9[0][0]']                      \n",
            "                                                                                                              \n",
            " dropout_10 (Dropout)               (None, 96, 96, 16)      0            ['leaky_re_lu_19[0][0]']             \n",
            "                                                                                                              \n",
            " conv2d_27 (Conv2D)                 (None, 48, 48, 16)      2320         ['dropout_10[0][0]']                 \n",
            "                                                                                                              \n",
            " batch_normalization_20 (BatchNorma  (None, 48, 48, 16)     64           ['conv2d_27[0][0]']                  \n",
            " lization)                                                                                                    \n",
            "                                                                                                              \n",
            " leaky_re_lu_20 (LeakyReLU)         (None, 48, 48, 16)      0            ['batch_normalization_20[0][0]']     \n",
            "                                                                                                              \n",
            " conv2d_28 (Conv2D)                 (None, 48, 48, 16)      2320         ['leaky_re_lu_20[0][0]']             \n",
            "                                                                                                              \n",
            " batch_normalization_21 (BatchNorma  (None, 48, 48, 16)     64           ['conv2d_28[0][0]']                  \n",
            " lization)                                                                                                    \n",
            "                                                                                                              \n",
            " conv2d_29 (Conv2D)                 (None, 48, 48, 16)      272          ['dropout_10[0][0]']                 \n",
            "                                                                                                              \n",
            " add_10 (Add)                       (None, 48, 48, 16)      0            ['batch_normalization_21[0][0]',     \n",
            "                                                                          'conv2d_29[0][0]']                  \n",
            "                                                                                                              \n",
            " leaky_re_lu_21 (LeakyReLU)         (None, 48, 48, 16)      0            ['add_10[0][0]']                     \n",
            "                                                                                                              \n",
            " dropout_11 (Dropout)               (None, 48, 48, 16)      0            ['leaky_re_lu_21[0][0]']             \n",
            "                                                                                                              \n",
            " conv2d_30 (Conv2D)                 (None, 48, 48, 16)      2320         ['dropout_11[0][0]']                 \n",
            "                                                                                                              \n",
            " batch_normalization_22 (BatchNorma  (None, 48, 48, 16)     64           ['conv2d_30[0][0]']                  \n",
            " lization)                                                                                                    \n",
            "                                                                                                              \n",
            " leaky_re_lu_22 (LeakyReLU)         (None, 48, 48, 16)      0            ['batch_normalization_22[0][0]']     \n",
            "                                                                                                              \n",
            " conv2d_31 (Conv2D)                 (None, 48, 48, 16)      2320         ['leaky_re_lu_22[0][0]']             \n",
            "                                                                                                              \n",
            " batch_normalization_23 (BatchNorma  (None, 48, 48, 16)     64           ['conv2d_31[0][0]']                  \n",
            " lization)                                                                                                    \n",
            "                                                                                                              \n",
            " add_11 (Add)                       (None, 48, 48, 16)      0            ['batch_normalization_23[0][0]',     \n",
            "                                                                          'dropout_11[0][0]']                 \n",
            "                                                                                                              \n",
            " leaky_re_lu_23 (LeakyReLU)         (None, 48, 48, 16)      0            ['add_11[0][0]']                     \n",
            "                                                                                                              \n",
            " dropout_12 (Dropout)               (None, 48, 48, 16)      0            ['leaky_re_lu_23[0][0]']             \n",
            "                                                                                                              \n",
            " conv2d_32 (Conv2D)                 (None, 24, 24, 32)      4640         ['dropout_12[0][0]']                 \n",
            "                                                                                                              \n",
            " batch_normalization_24 (BatchNorma  (None, 24, 24, 32)     128          ['conv2d_32[0][0]']                  \n",
            " lization)                                                                                                    \n",
            "                                                                                                              \n",
            " leaky_re_lu_24 (LeakyReLU)         (None, 24, 24, 32)      0            ['batch_normalization_24[0][0]']     \n",
            "                                                                                                              \n",
            " conv2d_33 (Conv2D)                 (None, 24, 24, 32)      9248         ['leaky_re_lu_24[0][0]']             \n",
            "                                                                                                              \n",
            " batch_normalization_25 (BatchNorma  (None, 24, 24, 32)     128          ['conv2d_33[0][0]']                  \n",
            " lization)                                                                                                    \n",
            "                                                                                                              \n",
            " conv2d_34 (Conv2D)                 (None, 24, 24, 32)      544          ['dropout_12[0][0]']                 \n",
            "                                                                                                              \n",
            " add_12 (Add)                       (None, 24, 24, 32)      0            ['batch_normalization_25[0][0]',     \n",
            "                                                                          'conv2d_34[0][0]']                  \n",
            "                                                                                                              \n",
            " leaky_re_lu_25 (LeakyReLU)         (None, 24, 24, 32)      0            ['add_12[0][0]']                     \n",
            "                                                                                                              \n",
            " dropout_13 (Dropout)               (None, 24, 24, 32)      0            ['leaky_re_lu_25[0][0]']             \n",
            "                                                                                                              \n",
            " conv2d_35 (Conv2D)                 (None, 24, 24, 32)      9248         ['dropout_13[0][0]']                 \n",
            "                                                                                                              \n",
            " batch_normalization_26 (BatchNorma  (None, 24, 24, 32)     128          ['conv2d_35[0][0]']                  \n",
            " lization)                                                                                                    \n",
            "                                                                                                              \n",
            " leaky_re_lu_26 (LeakyReLU)         (None, 24, 24, 32)      0            ['batch_normalization_26[0][0]']     \n",
            "                                                                                                              \n",
            " conv2d_36 (Conv2D)                 (None, 24, 24, 32)      9248         ['leaky_re_lu_26[0][0]']             \n",
            "                                                                                                              \n",
            " batch_normalization_27 (BatchNorma  (None, 24, 24, 32)     128          ['conv2d_36[0][0]']                  \n",
            " lization)                                                                                                    \n",
            "                                                                                                              \n",
            " add_13 (Add)                       (None, 24, 24, 32)      0            ['batch_normalization_27[0][0]',     \n",
            "                                                                          'dropout_13[0][0]']                 \n",
            "                                                                                                              \n",
            " leaky_re_lu_27 (LeakyReLU)         (None, 24, 24, 32)      0            ['add_13[0][0]']                     \n",
            "                                                                                                              \n",
            " dropout_14 (Dropout)               (None, 24, 24, 32)      0            ['leaky_re_lu_27[0][0]']             \n",
            "                                                                                                              \n",
            " conv2d_37 (Conv2D)                 (None, 12, 12, 64)      18496        ['dropout_14[0][0]']                 \n",
            "                                                                                                              \n",
            " batch_normalization_28 (BatchNorma  (None, 12, 12, 64)     256          ['conv2d_37[0][0]']                  \n",
            " lization)                                                                                                    \n",
            "                                                                                                              \n",
            " leaky_re_lu_28 (LeakyReLU)         (None, 12, 12, 64)      0            ['batch_normalization_28[0][0]']     \n",
            "                                                                                                              \n",
            " conv2d_38 (Conv2D)                 (None, 12, 12, 64)      36928        ['leaky_re_lu_28[0][0]']             \n",
            "                                                                                                              \n",
            " batch_normalization_29 (BatchNorma  (None, 12, 12, 64)     256          ['conv2d_38[0][0]']                  \n",
            " lization)                                                                                                    \n",
            "                                                                                                              \n",
            " conv2d_39 (Conv2D)                 (None, 12, 12, 64)      2112         ['dropout_14[0][0]']                 \n",
            "                                                                                                              \n",
            " add_14 (Add)                       (None, 12, 12, 64)      0            ['batch_normalization_29[0][0]',     \n",
            "                                                                          'conv2d_39[0][0]']                  \n",
            "                                                                                                              \n",
            " leaky_re_lu_29 (LeakyReLU)         (None, 12, 12, 64)      0            ['add_14[0][0]']                     \n",
            "                                                                                                              \n",
            " dropout_15 (Dropout)               (None, 12, 12, 64)      0            ['leaky_re_lu_29[0][0]']             \n",
            "                                                                                                              \n",
            " conv2d_40 (Conv2D)                 (None, 12, 12, 32)      18464        ['dropout_15[0][0]']                 \n",
            "                                                                                                              \n",
            " batch_normalization_30 (BatchNorma  (None, 12, 12, 32)     128          ['conv2d_40[0][0]']                  \n",
            " lization)                                                                                                    \n",
            "                                                                                                              \n",
            " leaky_re_lu_30 (LeakyReLU)         (None, 12, 12, 32)      0            ['batch_normalization_30[0][0]']     \n",
            "                                                                                                              \n",
            " conv2d_41 (Conv2D)                 (None, 12, 12, 32)      9248         ['leaky_re_lu_30[0][0]']             \n",
            "                                                                                                              \n",
            " batch_normalization_31 (BatchNorma  (None, 12, 12, 32)     128          ['conv2d_41[0][0]']                  \n",
            " lization)                                                                                                    \n",
            "                                                                                                              \n",
            " conv2d_42 (Conv2D)                 (None, 12, 12, 32)      2080         ['dropout_15[0][0]']                 \n",
            "                                                                                                              \n",
            " add_15 (Add)                       (None, 12, 12, 32)      0            ['batch_normalization_31[0][0]',     \n",
            "                                                                          'conv2d_42[0][0]']                  \n",
            "                                                                                                              \n",
            " leaky_re_lu_31 (LeakyReLU)         (None, 12, 12, 32)      0            ['add_15[0][0]']                     \n",
            "                                                                                                              \n",
            " dropout_16 (Dropout)               (None, 12, 12, 32)      0            ['leaky_re_lu_31[0][0]']             \n",
            "                                                                                                              \n",
            " conv2d_43 (Conv2D)                 (None, 6, 6, 64)        18496        ['dropout_16[0][0]']                 \n",
            "                                                                                                              \n",
            " batch_normalization_32 (BatchNorma  (None, 6, 6, 64)       256          ['conv2d_43[0][0]']                  \n",
            " lization)                                                                                                    \n",
            "                                                                                                              \n",
            " leaky_re_lu_32 (LeakyReLU)         (None, 6, 6, 64)        0            ['batch_normalization_32[0][0]']     \n",
            "                                                                                                              \n",
            " conv2d_44 (Conv2D)                 (None, 6, 6, 64)        36928        ['leaky_re_lu_32[0][0]']             \n",
            "                                                                                                              \n",
            " batch_normalization_33 (BatchNorma  (None, 6, 6, 64)       256          ['conv2d_44[0][0]']                  \n",
            " lization)                                                                                                    \n",
            "                                                                                                              \n",
            " conv2d_45 (Conv2D)                 (None, 6, 6, 64)        2112         ['dropout_16[0][0]']                 \n",
            "                                                                                                              \n",
            " add_16 (Add)                       (None, 6, 6, 64)        0            ['batch_normalization_33[0][0]',     \n",
            "                                                                          'conv2d_45[0][0]']                  \n",
            "                                                                                                              \n",
            " leaky_re_lu_33 (LeakyReLU)         (None, 6, 6, 64)        0            ['add_16[0][0]']                     \n",
            "                                                                                                              \n",
            " dropout_17 (Dropout)               (None, 6, 6, 64)        0            ['leaky_re_lu_33[0][0]']             \n",
            "                                                                                                              \n",
            " conv2d_46 (Conv2D)                 (None, 6, 6, 64)        36928        ['dropout_17[0][0]']                 \n",
            "                                                                                                              \n",
            " batch_normalization_34 (BatchNorma  (None, 6, 6, 64)       256          ['conv2d_46[0][0]']                  \n",
            " lization)                                                                                                    \n",
            "                                                                                                              \n",
            " leaky_re_lu_34 (LeakyReLU)         (None, 6, 6, 64)        0            ['batch_normalization_34[0][0]']     \n",
            "                                                                                                              \n",
            " conv2d_47 (Conv2D)                 (None, 6, 6, 64)        36928        ['leaky_re_lu_34[0][0]']             \n",
            "                                                                                                              \n",
            " batch_normalization_35 (BatchNorma  (None, 6, 6, 64)       256          ['conv2d_47[0][0]']                  \n",
            " lization)                                                                                                    \n",
            "                                                                                                              \n",
            " add_17 (Add)                       (None, 6, 6, 64)        0            ['batch_normalization_35[0][0]',     \n",
            "                                                                          'dropout_17[0][0]']                 \n",
            "                                                                                                              \n",
            " leaky_re_lu_35 (LeakyReLU)         (None, 6, 6, 64)        0            ['add_17[0][0]']                     \n",
            "                                                                                                              \n",
            " dropout_18 (Dropout)               (None, 6, 6, 64)        0            ['leaky_re_lu_35[0][0]']             \n",
            "                                                                                                              \n",
            " reshape_1 (Reshape)                (None, 36, 64)          0            ['dropout_18[0][0]']                 \n",
            "                                                                                                              \n",
            " bidirectional_1 (Bidirectional)    (None, 36, 256)         197632       ['reshape_1[0][0]']                  \n",
            "                                                                                                              \n",
            " dropout_19 (Dropout)               (None, 36, 256)         0            ['bidirectional_1[0][0]']            \n",
            "                                                                                                              \n",
            " output (Dense)                     (None, 36, 63)          16191        ['dropout_19[0][0]']                 \n",
            "                                                                                                              \n",
            "==============================================================================================================\n",
            "Total params: 480,543\n",
            "Trainable params: 479,199\n",
            "Non-trainable params: 1,344\n",
            "______________________________________________________________________________________________________________\n"
          ]
        }
      ]
    },
    {
      "cell_type": "code",
      "source": [
        "from keras.callbacks import EarlyStopping, ModelCheckpoint, ReduceLROnPlateau, TensorBoard\n",
        "from drive.MyDrive.mltu.tensorflow.callbacks import Model2onnx, TrainLogger\n",
        "\n",
        "# Define callbacks\n",
        "earlystopper = EarlyStopping(monitor='val_CER', patience=40, verbose=1)\n",
        "checkpoint = ModelCheckpoint(f\"{configs.model_path}/model.h5\", monitor='val_CER', verbose=1, save_best_only=True, mode='min')\n",
        "trainLogger = TrainLogger(configs.model_path)\n",
        "tb_callback = TensorBoard(f'{configs.model_path}/logs', update_freq=1)\n",
        "reduceLROnPlat = ReduceLROnPlateau(monitor='val_CER', factor=0.9, min_delta=1e-10, patience=20, verbose=1, mode='auto')\n",
        "model2onnx = Model2onnx(f\"{configs.model_path}/model.h5\")"
      ],
      "metadata": {
        "id": "cd4_jux6GwP3"
      },
      "execution_count": null,
      "outputs": []
    },
    {
      "cell_type": "code",
      "source": [
        "print(len(val_data_provider._dataset))"
      ],
      "metadata": {
        "colab": {
          "base_uri": "https://localhost:8080/"
        },
        "id": "oAoyhUkv_2ph",
        "outputId": "74a7a17c-1bd4-4486-e6eb-b33fc8d2e7ed"
      },
      "execution_count": null,
      "outputs": [
        {
          "output_type": "stream",
          "name": "stdout",
          "text": [
            "850\n"
          ]
        }
      ]
    },
    {
      "cell_type": "code",
      "source": [
        "# Train the model\n",
        "model.fit(\n",
        "  train_data_provider,\n",
        "  validation_data=val_data_provider,\n",
        "  epochs=configs.train_epochs,\n",
        "  callbacks=[earlystopper, checkpoint, trainLogger, reduceLROnPlat, tb_callback, model2onnx],\n",
        "  workers=configs.train_workers\n",
        ")"
      ],
      "metadata": {
        "id": "cLqPTUqcGzYg",
        "colab": {
          "base_uri": "https://localhost:8080/",
          "height": 416
        },
        "outputId": "7e58a386-4aba-4199-de43-3db79eee4e23"
      },
      "execution_count": null,
      "outputs": [
        {
          "output_type": "error",
          "ename": "ValueError",
          "evalue": "ignored",
          "traceback": [
            "\u001b[0;31m---------------------------------------------------------------------------\u001b[0m",
            "\u001b[0;31mValueError\u001b[0m                                Traceback (most recent call last)",
            "\u001b[0;32m<ipython-input-22-a2430be44ea1>\u001b[0m in \u001b[0;36m<cell line: 2>\u001b[0;34m()\u001b[0m\n\u001b[1;32m      1\u001b[0m \u001b[0;31m# Train the model\u001b[0m\u001b[0;34m\u001b[0m\u001b[0;34m\u001b[0m\u001b[0m\n\u001b[0;32m----> 2\u001b[0;31m model.fit(\n\u001b[0m\u001b[1;32m      3\u001b[0m   \u001b[0mtrain_data_provider\u001b[0m\u001b[0;34m,\u001b[0m\u001b[0;34m\u001b[0m\u001b[0;34m\u001b[0m\u001b[0m\n\u001b[1;32m      4\u001b[0m   \u001b[0mvalidation_data\u001b[0m\u001b[0;34m=\u001b[0m\u001b[0mval_data_provider\u001b[0m\u001b[0;34m,\u001b[0m\u001b[0;34m\u001b[0m\u001b[0;34m\u001b[0m\u001b[0m\n\u001b[1;32m      5\u001b[0m   \u001b[0mepochs\u001b[0m\u001b[0;34m=\u001b[0m\u001b[0mconfigs\u001b[0m\u001b[0;34m.\u001b[0m\u001b[0mtrain_epochs\u001b[0m\u001b[0;34m,\u001b[0m\u001b[0;34m\u001b[0m\u001b[0;34m\u001b[0m\u001b[0m\n",
            "\u001b[0;32m/usr/local/lib/python3.10/dist-packages/keras/utils/traceback_utils.py\u001b[0m in \u001b[0;36merror_handler\u001b[0;34m(*args, **kwargs)\u001b[0m\n\u001b[1;32m     68\u001b[0m             \u001b[0;31m# To get the full stack trace, call:\u001b[0m\u001b[0;34m\u001b[0m\u001b[0;34m\u001b[0m\u001b[0m\n\u001b[1;32m     69\u001b[0m             \u001b[0;31m# `tf.debugging.disable_traceback_filtering()`\u001b[0m\u001b[0;34m\u001b[0m\u001b[0;34m\u001b[0m\u001b[0m\n\u001b[0;32m---> 70\u001b[0;31m             \u001b[0;32mraise\u001b[0m \u001b[0me\u001b[0m\u001b[0;34m.\u001b[0m\u001b[0mwith_traceback\u001b[0m\u001b[0;34m(\u001b[0m\u001b[0mfiltered_tb\u001b[0m\u001b[0;34m)\u001b[0m \u001b[0;32mfrom\u001b[0m \u001b[0;32mNone\u001b[0m\u001b[0;34m\u001b[0m\u001b[0;34m\u001b[0m\u001b[0m\n\u001b[0m\u001b[1;32m     71\u001b[0m         \u001b[0;32mfinally\u001b[0m\u001b[0;34m:\u001b[0m\u001b[0;34m\u001b[0m\u001b[0;34m\u001b[0m\u001b[0m\n\u001b[1;32m     72\u001b[0m             \u001b[0;32mdel\u001b[0m \u001b[0mfiltered_tb\u001b[0m\u001b[0;34m\u001b[0m\u001b[0;34m\u001b[0m\u001b[0m\n",
            "\u001b[0;32m/usr/local/lib/python3.10/dist-packages/keras/engine/data_adapter.py\u001b[0m in \u001b[0;36mselect_data_adapter\u001b[0;34m(x, y)\u001b[0m\n\u001b[1;32m   1081\u001b[0m     \u001b[0;32mif\u001b[0m \u001b[0;32mnot\u001b[0m \u001b[0madapter_cls\u001b[0m\u001b[0;34m:\u001b[0m\u001b[0;34m\u001b[0m\u001b[0;34m\u001b[0m\u001b[0m\n\u001b[1;32m   1082\u001b[0m         \u001b[0;31m# TODO(scottzhu): This should be a less implementation-specific error.\u001b[0m\u001b[0;34m\u001b[0m\u001b[0;34m\u001b[0m\u001b[0m\n\u001b[0;32m-> 1083\u001b[0;31m         raise ValueError(\n\u001b[0m\u001b[1;32m   1084\u001b[0m             \u001b[0;34m\"Failed to find data adapter that can handle \"\u001b[0m\u001b[0;34m\u001b[0m\u001b[0;34m\u001b[0m\u001b[0m\n\u001b[1;32m   1085\u001b[0m             \u001b[0;34m\"input: {}, {}\"\u001b[0m\u001b[0;34m.\u001b[0m\u001b[0mformat\u001b[0m\u001b[0;34m(\u001b[0m\u001b[0m_type_name\u001b[0m\u001b[0;34m(\u001b[0m\u001b[0mx\u001b[0m\u001b[0;34m)\u001b[0m\u001b[0;34m,\u001b[0m \u001b[0m_type_name\u001b[0m\u001b[0;34m(\u001b[0m\u001b[0my\u001b[0m\u001b[0;34m)\u001b[0m\u001b[0;34m)\u001b[0m\u001b[0;34m\u001b[0m\u001b[0;34m\u001b[0m\u001b[0m\n",
            "\u001b[0;31mValueError\u001b[0m: Failed to find data adapter that can handle input: <class 'drive.MyDrive.mltu.dataProvider.DataProvider'>, <class 'NoneType'>"
          ]
        }
      ]
    }
  ]
}